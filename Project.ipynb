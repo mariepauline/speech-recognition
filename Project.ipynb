{
 "cells": [
  {
   "cell_type": "markdown",
   "metadata": {},
   "source": [
    "# Speech recognition\n",
    "\n",
    "How exciting to start our AI speech recognition journey! 🚀\n",
    "\n",
    "The neccessary steps are as follows:\n",
    "1) Install and import all necessary packages\n",
    "2) Specify and load the wanted model from HuggingFace via their package \"transformers\"\n",
    "3) Specify which audio files to run through the model\n",
    "4) Voila, the magic is done!\n",
    "5) (optional) save the output wherever you want"
   ]
  },
  {
   "cell_type": "markdown",
   "metadata": {},
   "source": [
    "## 1) Install and import all necessary packages"
   ]
  },
  {
   "cell_type": "code",
   "execution_count": 3,
   "metadata": {},
   "outputs": [
    {
     "name": "stdout",
     "output_type": "stream",
     "text": [
      "/Users/mariekristiansen/Documents/Permittering/projects/SpeechRecognitionLocal/env/bin/python\n"
     ]
    }
   ],
   "source": [
    "# We start by checking that our virtual environment is up and running. \n",
    "# The correct path should end with /env/bin/python\n",
    "!which python"
   ]
  },
  {
   "cell_type": "code",
   "execution_count": 4,
   "metadata": {},
   "outputs": [
    {
     "name": "stdout",
     "output_type": "stream",
     "text": [
      "Requirement already satisfied: anyio==4.2.0 in ./env/lib/python3.12/site-packages (from -r requirements.txt (line 1)) (4.2.0)\n",
      "Requirement already satisfied: appnope==0.1.3 in ./env/lib/python3.12/site-packages (from -r requirements.txt (line 2)) (0.1.3)\n",
      "Requirement already satisfied: argon2-cffi==23.1.0 in ./env/lib/python3.12/site-packages (from -r requirements.txt (line 3)) (23.1.0)\n",
      "Requirement already satisfied: argon2-cffi-bindings==21.2.0 in ./env/lib/python3.12/site-packages (from -r requirements.txt (line 4)) (21.2.0)\n",
      "Requirement already satisfied: arrow==1.3.0 in ./env/lib/python3.12/site-packages (from -r requirements.txt (line 5)) (1.3.0)\n",
      "Requirement already satisfied: asttokens==2.4.1 in ./env/lib/python3.12/site-packages (from -r requirements.txt (line 6)) (2.4.1)\n",
      "Requirement already satisfied: async-lru==2.0.4 in ./env/lib/python3.12/site-packages (from -r requirements.txt (line 7)) (2.0.4)\n",
      "Requirement already satisfied: attrs==23.2.0 in ./env/lib/python3.12/site-packages (from -r requirements.txt (line 8)) (23.2.0)\n",
      "Requirement already satisfied: Babel==2.14.0 in ./env/lib/python3.12/site-packages (from -r requirements.txt (line 9)) (2.14.0)\n",
      "Requirement already satisfied: beautifulsoup4==4.12.3 in ./env/lib/python3.12/site-packages (from -r requirements.txt (line 10)) (4.12.3)\n",
      "Requirement already satisfied: bleach==6.1.0 in ./env/lib/python3.12/site-packages (from -r requirements.txt (line 11)) (6.1.0)\n",
      "Requirement already satisfied: certifi==2023.11.17 in ./env/lib/python3.12/site-packages (from -r requirements.txt (line 12)) (2023.11.17)\n",
      "Requirement already satisfied: cffi==1.16.0 in ./env/lib/python3.12/site-packages (from -r requirements.txt (line 13)) (1.16.0)\n",
      "Requirement already satisfied: charset-normalizer==3.3.2 in ./env/lib/python3.12/site-packages (from -r requirements.txt (line 14)) (3.3.2)\n",
      "Requirement already satisfied: comm==0.2.1 in ./env/lib/python3.12/site-packages (from -r requirements.txt (line 15)) (0.2.1)\n",
      "Requirement already satisfied: debugpy==1.8.0 in ./env/lib/python3.12/site-packages (from -r requirements.txt (line 16)) (1.8.0)\n",
      "Requirement already satisfied: decorator==5.1.1 in ./env/lib/python3.12/site-packages (from -r requirements.txt (line 17)) (5.1.1)\n",
      "Requirement already satisfied: defusedxml==0.7.1 in ./env/lib/python3.12/site-packages (from -r requirements.txt (line 18)) (0.7.1)\n",
      "Requirement already satisfied: executing==2.0.1 in ./env/lib/python3.12/site-packages (from -r requirements.txt (line 19)) (2.0.1)\n",
      "Requirement already satisfied: fastjsonschema==2.19.1 in ./env/lib/python3.12/site-packages (from -r requirements.txt (line 20)) (2.19.1)\n",
      "Requirement already satisfied: filelock==3.13.1 in ./env/lib/python3.12/site-packages (from -r requirements.txt (line 21)) (3.13.1)\n",
      "Requirement already satisfied: fqdn==1.5.1 in ./env/lib/python3.12/site-packages (from -r requirements.txt (line 22)) (1.5.1)\n",
      "Requirement already satisfied: fsspec==2023.12.2 in ./env/lib/python3.12/site-packages (from -r requirements.txt (line 23)) (2023.12.2)\n",
      "Requirement already satisfied: huggingface-hub==0.20.3 in ./env/lib/python3.12/site-packages (from -r requirements.txt (line 24)) (0.20.3)\n",
      "Requirement already satisfied: idna==3.6 in ./env/lib/python3.12/site-packages (from -r requirements.txt (line 25)) (3.6)\n",
      "Requirement already satisfied: ipykernel==6.29.0 in ./env/lib/python3.12/site-packages (from -r requirements.txt (line 26)) (6.29.0)\n",
      "Requirement already satisfied: ipython==8.20.0 in ./env/lib/python3.12/site-packages (from -r requirements.txt (line 27)) (8.20.0)\n",
      "Requirement already satisfied: isoduration==20.11.0 in ./env/lib/python3.12/site-packages (from -r requirements.txt (line 28)) (20.11.0)\n",
      "Requirement already satisfied: jedi==0.19.1 in ./env/lib/python3.12/site-packages (from -r requirements.txt (line 29)) (0.19.1)\n",
      "Requirement already satisfied: Jinja2==3.1.2 in ./env/lib/python3.12/site-packages (from -r requirements.txt (line 30)) (3.1.2)\n",
      "Requirement already satisfied: json5==0.9.14 in ./env/lib/python3.12/site-packages (from -r requirements.txt (line 31)) (0.9.14)\n",
      "Requirement already satisfied: jsonpointer==2.4 in ./env/lib/python3.12/site-packages (from -r requirements.txt (line 32)) (2.4)\n",
      "Requirement already satisfied: jsonschema==4.21.1 in ./env/lib/python3.12/site-packages (from -r requirements.txt (line 33)) (4.21.1)\n",
      "Requirement already satisfied: jsonschema-specifications==2023.12.1 in ./env/lib/python3.12/site-packages (from -r requirements.txt (line 34)) (2023.12.1)\n",
      "Requirement already satisfied: jupyter-events==0.9.0 in ./env/lib/python3.12/site-packages (from -r requirements.txt (line 35)) (0.9.0)\n",
      "Requirement already satisfied: jupyter-lsp==2.2.2 in ./env/lib/python3.12/site-packages (from -r requirements.txt (line 36)) (2.2.2)\n",
      "Requirement already satisfied: jupyter_client==8.6.0 in ./env/lib/python3.12/site-packages (from -r requirements.txt (line 37)) (8.6.0)\n",
      "Requirement already satisfied: jupyter_core==5.7.1 in ./env/lib/python3.12/site-packages (from -r requirements.txt (line 38)) (5.7.1)\n",
      "Requirement already satisfied: jupyter_server==2.12.5 in ./env/lib/python3.12/site-packages (from -r requirements.txt (line 39)) (2.12.5)\n",
      "Requirement already satisfied: jupyter_server_terminals==0.5.2 in ./env/lib/python3.12/site-packages (from -r requirements.txt (line 40)) (0.5.2)\n",
      "Requirement already satisfied: jupyterlab==4.0.11 in ./env/lib/python3.12/site-packages (from -r requirements.txt (line 41)) (4.0.11)\n",
      "Requirement already satisfied: jupyterlab_pygments==0.3.0 in ./env/lib/python3.12/site-packages (from -r requirements.txt (line 42)) (0.3.0)\n",
      "Requirement already satisfied: jupyterlab_server==2.25.2 in ./env/lib/python3.12/site-packages (from -r requirements.txt (line 43)) (2.25.2)\n",
      "Requirement already satisfied: MarkupSafe==2.1.3 in ./env/lib/python3.12/site-packages (from -r requirements.txt (line 44)) (2.1.3)\n",
      "Requirement already satisfied: matplotlib-inline==0.1.6 in ./env/lib/python3.12/site-packages (from -r requirements.txt (line 45)) (0.1.6)\n",
      "Requirement already satisfied: mistune==3.0.2 in ./env/lib/python3.12/site-packages (from -r requirements.txt (line 46)) (3.0.2)\n",
      "Requirement already satisfied: mpmath==1.2.1 in ./env/lib/python3.12/site-packages (from -r requirements.txt (line 47)) (1.2.1)\n",
      "Requirement already satisfied: nbclient==0.9.0 in ./env/lib/python3.12/site-packages (from -r requirements.txt (line 48)) (0.9.0)\n",
      "Requirement already satisfied: nbconvert==7.14.2 in ./env/lib/python3.12/site-packages (from -r requirements.txt (line 49)) (7.14.2)\n",
      "Requirement already satisfied: nbformat==5.9.2 in ./env/lib/python3.12/site-packages (from -r requirements.txt (line 50)) (5.9.2)\n",
      "Requirement already satisfied: nest-asyncio==1.6.0 in ./env/lib/python3.12/site-packages (from -r requirements.txt (line 51)) (1.6.0)\n",
      "Requirement already satisfied: networkx==3.0rc1 in ./env/lib/python3.12/site-packages (from -r requirements.txt (line 52)) (3.0rc1)\n",
      "Requirement already satisfied: notebook==7.0.7 in ./env/lib/python3.12/site-packages (from -r requirements.txt (line 53)) (7.0.7)\n",
      "Requirement already satisfied: notebook_shim==0.2.3 in ./env/lib/python3.12/site-packages (from -r requirements.txt (line 54)) (0.2.3)\n",
      "Requirement already satisfied: numpy==1.26.3 in ./env/lib/python3.12/site-packages (from -r requirements.txt (line 55)) (1.26.3)\n",
      "Requirement already satisfied: overrides==7.7.0 in ./env/lib/python3.12/site-packages (from -r requirements.txt (line 56)) (7.7.0)\n",
      "Requirement already satisfied: packaging==23.2 in ./env/lib/python3.12/site-packages (from -r requirements.txt (line 57)) (23.2)\n",
      "Requirement already satisfied: pandocfilters==1.5.1 in ./env/lib/python3.12/site-packages (from -r requirements.txt (line 58)) (1.5.1)\n",
      "Requirement already satisfied: parso==0.8.3 in ./env/lib/python3.12/site-packages (from -r requirements.txt (line 59)) (0.8.3)\n",
      "Requirement already satisfied: pexpect==4.9.0 in ./env/lib/python3.12/site-packages (from -r requirements.txt (line 60)) (4.9.0)\n",
      "Requirement already satisfied: Pillow==10.1.0 in ./env/lib/python3.12/site-packages (from -r requirements.txt (line 61)) (10.1.0)\n",
      "Requirement already satisfied: platformdirs==4.1.0 in ./env/lib/python3.12/site-packages (from -r requirements.txt (line 62)) (4.1.0)\n",
      "Requirement already satisfied: prometheus-client==0.19.0 in ./env/lib/python3.12/site-packages (from -r requirements.txt (line 63)) (0.19.0)\n",
      "Requirement already satisfied: prompt-toolkit==3.0.43 in ./env/lib/python3.12/site-packages (from -r requirements.txt (line 64)) (3.0.43)\n",
      "Requirement already satisfied: psutil==5.9.8 in ./env/lib/python3.12/site-packages (from -r requirements.txt (line 65)) (5.9.8)\n",
      "Requirement already satisfied: ptyprocess==0.7.0 in ./env/lib/python3.12/site-packages (from -r requirements.txt (line 66)) (0.7.0)\n",
      "Requirement already satisfied: pure-eval==0.2.2 in ./env/lib/python3.12/site-packages (from -r requirements.txt (line 67)) (0.2.2)\n",
      "Requirement already satisfied: pycparser==2.21 in ./env/lib/python3.12/site-packages (from -r requirements.txt (line 68)) (2.21)\n",
      "Requirement already satisfied: Pygments==2.17.2 in ./env/lib/python3.12/site-packages (from -r requirements.txt (line 69)) (2.17.2)\n",
      "Requirement already satisfied: python-dateutil==2.8.2 in ./env/lib/python3.12/site-packages (from -r requirements.txt (line 70)) (2.8.2)\n",
      "Requirement already satisfied: python-json-logger==2.0.7 in ./env/lib/python3.12/site-packages (from -r requirements.txt (line 71)) (2.0.7)\n",
      "Requirement already satisfied: PyYAML==6.0.1 in ./env/lib/python3.12/site-packages (from -r requirements.txt (line 72)) (6.0.1)\n",
      "Requirement already satisfied: pyzmq==25.1.2 in ./env/lib/python3.12/site-packages (from -r requirements.txt (line 73)) (25.1.2)\n",
      "Requirement already satisfied: referencing==0.33.0 in ./env/lib/python3.12/site-packages (from -r requirements.txt (line 74)) (0.33.0)\n",
      "Requirement already satisfied: regex==2023.12.25 in ./env/lib/python3.12/site-packages (from -r requirements.txt (line 75)) (2023.12.25)\n",
      "Requirement already satisfied: requests==2.31.0 in ./env/lib/python3.12/site-packages (from -r requirements.txt (line 76)) (2.31.0)\n",
      "Requirement already satisfied: rfc3339-validator==0.1.4 in ./env/lib/python3.12/site-packages (from -r requirements.txt (line 77)) (0.1.4)\n",
      "Requirement already satisfied: rfc3986-validator==0.1.1 in ./env/lib/python3.12/site-packages (from -r requirements.txt (line 78)) (0.1.1)\n",
      "Requirement already satisfied: rpds-py==0.17.1 in ./env/lib/python3.12/site-packages (from -r requirements.txt (line 79)) (0.17.1)\n",
      "Requirement already satisfied: safetensors==0.4.2 in ./env/lib/python3.12/site-packages (from -r requirements.txt (line 80)) (0.4.2)\n",
      "Requirement already satisfied: Send2Trash==1.8.2 in ./env/lib/python3.12/site-packages (from -r requirements.txt (line 81)) (1.8.2)\n",
      "Requirement already satisfied: six==1.16.0 in ./env/lib/python3.12/site-packages (from -r requirements.txt (line 82)) (1.16.0)\n",
      "Requirement already satisfied: sniffio==1.3.0 in ./env/lib/python3.12/site-packages (from -r requirements.txt (line 83)) (1.3.0)\n",
      "Requirement already satisfied: soupsieve==2.5 in ./env/lib/python3.12/site-packages (from -r requirements.txt (line 84)) (2.5)\n",
      "Requirement already satisfied: stack-data==0.6.3 in ./env/lib/python3.12/site-packages (from -r requirements.txt (line 85)) (0.6.3)\n",
      "Requirement already satisfied: sympy==1.11.1 in ./env/lib/python3.12/site-packages (from -r requirements.txt (line 86)) (1.11.1)\n",
      "Requirement already satisfied: terminado==0.18.0 in ./env/lib/python3.12/site-packages (from -r requirements.txt (line 87)) (0.18.0)\n",
      "Requirement already satisfied: tinycss2==1.2.1 in ./env/lib/python3.12/site-packages (from -r requirements.txt (line 88)) (1.2.1)\n",
      "Requirement already satisfied: tokenizers==0.15.1 in ./env/lib/python3.12/site-packages (from -r requirements.txt (line 89)) (0.15.1)\n",
      "Requirement already satisfied: torch==2.3.0.dev20240129 in ./env/lib/python3.12/site-packages (from -r requirements.txt (line 90)) (2.3.0.dev20240129)\n",
      "Requirement already satisfied: torchaudio==2.2.0.dev20240129 in ./env/lib/python3.12/site-packages (from -r requirements.txt (line 91)) (2.2.0.dev20240129)\n",
      "Requirement already satisfied: torchvision==0.18.0.dev20240129 in ./env/lib/python3.12/site-packages (from -r requirements.txt (line 92)) (0.18.0.dev20240129)\n",
      "Requirement already satisfied: tornado==6.4 in ./env/lib/python3.12/site-packages (from -r requirements.txt (line 93)) (6.4)\n",
      "Requirement already satisfied: tqdm==4.66.1 in ./env/lib/python3.12/site-packages (from -r requirements.txt (line 94)) (4.66.1)\n",
      "Requirement already satisfied: traitlets==5.14.1 in ./env/lib/python3.12/site-packages (from -r requirements.txt (line 95)) (5.14.1)\n",
      "Requirement already satisfied: transformers==4.37.2 in ./env/lib/python3.12/site-packages (from -r requirements.txt (line 96)) (4.37.2)\n",
      "Requirement already satisfied: types-python-dateutil==2.8.19.20240106 in ./env/lib/python3.12/site-packages (from -r requirements.txt (line 97)) (2.8.19.20240106)\n",
      "Requirement already satisfied: typing_extensions==4.9.0 in ./env/lib/python3.12/site-packages (from -r requirements.txt (line 98)) (4.9.0)\n",
      "Requirement already satisfied: uri-template==1.3.0 in ./env/lib/python3.12/site-packages (from -r requirements.txt (line 99)) (1.3.0)\n",
      "Requirement already satisfied: urllib3==2.1.0 in ./env/lib/python3.12/site-packages (from -r requirements.txt (line 100)) (2.1.0)\n",
      "Requirement already satisfied: wcwidth==0.2.13 in ./env/lib/python3.12/site-packages (from -r requirements.txt (line 101)) (0.2.13)\n",
      "Requirement already satisfied: webcolors==1.13 in ./env/lib/python3.12/site-packages (from -r requirements.txt (line 102)) (1.13)\n",
      "Requirement already satisfied: webencodings==0.5.1 in ./env/lib/python3.12/site-packages (from -r requirements.txt (line 103)) (0.5.1)\n",
      "Requirement already satisfied: websocket-client==1.7.0 in ./env/lib/python3.12/site-packages (from -r requirements.txt (line 104)) (1.7.0)\n"
     ]
    }
   ],
   "source": [
    "# Then we need to install all required packages\n",
    "# Most likely this is already done and you can skip this part\n",
    "!pip install -r requirements.txt"
   ]
  },
  {
   "cell_type": "code",
   "execution_count": 5,
   "metadata": {},
   "outputs": [
    {
     "name": "stderr",
     "output_type": "stream",
     "text": [
      "/Users/mariekristiansen/Documents/Permittering/projects/SpeechRecognitionLocal/env/lib/python3.12/site-packages/tqdm/auto.py:21: TqdmWarning: IProgress not found. Please update jupyter and ipywidgets. See https://ipywidgets.readthedocs.io/en/stable/user_install.html\n",
      "  from .autonotebook import tqdm as notebook_tqdm\n"
     ]
    }
   ],
   "source": [
    "# Importing necessary packages\n",
    "\n",
    "from transformers import pipeline"
   ]
  },
  {
   "cell_type": "code",
   "execution_count": 6,
   "metadata": {},
   "outputs": [],
   "source": [
    "# Set model\n",
    "# This can be any suitable model from Hugging Face\n",
    "model_name = \"NbAiLab/nb-whisper-small-beta\""
   ]
  },
  {
   "cell_type": "code",
   "execution_count": 21,
   "metadata": {},
   "outputs": [],
   "source": [
    "# Load the model from hugging face\n",
    "speech_recognition = pipeline(\"automatic-speech-recognition\", model_name)\n"
   ]
  },
  {
   "cell_type": "code",
   "execution_count": 22,
   "metadata": {},
   "outputs": [],
   "source": [
    "# Choose audio file\n",
    "audio_file = \"audio/king.mp3\""
   ]
  },
  {
   "cell_type": "code",
   "execution_count": 23,
   "metadata": {},
   "outputs": [
    {
     "name": "stderr",
     "output_type": "stream",
     "text": [
      "/Users/mariekristiansen/Documents/Permittering/projects/SpeechRecognitionLocal/env/lib/python3.12/site-packages/transformers/generation/configuration_utils.py:392: UserWarning: `do_sample` is set to `False`. However, `temperature` is set to `None` -- this flag is only used in sample-based generation modes. You should set `do_sample=True` or unset `temperature`.\n",
      "  warnings.warn(\n"
     ]
    }
   ],
   "source": [
    "# Transcribe\n",
    "\n",
    "output = speech_recognition(audio_file, return_timestamps=True, generate_kwargs={'task': 'transcribe', 'language': 'no'})"
   ]
  },
  {
   "cell_type": "code",
   "execution_count": 24,
   "metadata": {},
   "outputs": [
    {
     "name": "stdout",
     "output_type": "stream",
     "text": [
      "{'text': ' Nordmenn er nordlendinger, trøndere, sørlendinger og folk fra alle andre regioner. Nordmenn er også innvandrere fra Afghanistan, Pakistan, Polen, Sverige, Somalia og Syria. Det er ikke alltid så lett å si hvor vi er fra. Det er rett vi tilhører. Det vi kaller hjem, er der hjertet vårt er. Det kan ikke alltid plasseres innenfor landegrenser. Nordmenn er jenter som er glad i jenter, gutter som er glad i gutter, og jenter og gutter som er glad i hverandre. Nordmenn tror på Gud, Allah, altet og ingenting. Nordmenn liker Grieg, Kygo, Hellbillies og Kari Bremnes. Med andre ord, Norge er dere. Norge er oss. Mitt største håp for Norge er at vi skal klare å ta vare på hverandre. At vi skal bygge dette landet videre på tillit, fellesskap og raushet.', 'chunks': [{'timestamp': (0.0, 5.5), 'text': ' Nordmenn er nordlendinger, trøndere, sørlendinger'}, {'timestamp': (5.52, 8.68), 'text': ' og folk fra alle andre regioner.'}, {'timestamp': (8.68, 15.08), 'text': ' Nordmenn er også innvandrere fra Afghanistan, Pakistan, Polen, Sverige,'}, {'timestamp': (15.08, 18.76), 'text': ' Somalia og Syria.'}, {'timestamp': (25.64, 30.0), 'text': ' Det er ikke alltid så lett å si hvor vi er fra.'}, {'timestamp': (0.0, 6.84), 'text': ' Det er rett vi tilhører. Det vi kaller hjem, er der hjertet vårt er.'}, {'timestamp': (6.84, 11.56), 'text': ' Det kan ikke alltid plasseres innenfor landegrenser.'}, {'timestamp': (11.56, 17.0), 'text': ' Nordmenn er jenter som er glad i jenter, gutter som er glad i gutter,'}, {'timestamp': (17.0, 21.16), 'text': ' og jenter og gutter som er glad i hverandre.'}, {'timestamp': (21.16, 27.44), 'text': ' Nordmenn tror på Gud, Allah, altet og ingenting.'}, {'timestamp': (0.0, 6.8), 'text': ' Nordmenn liker Grieg, Kygo, Hellbillies og Kari Bremnes.'}, {'timestamp': (6.88, 12.4), 'text': ' Med andre ord, Norge er dere. Norge er oss.'}, {'timestamp': (14.0, 20.6), 'text': ' Mitt største håp for Norge er at vi skal klare å ta vare på hverandre.'}, {'timestamp': (20.64, 27.48), 'text': ' At vi skal bygge dette landet videre på tillit, fellesskap og raushet.'}]}\n"
     ]
    }
   ],
   "source": [
    "# Check output\n",
    "print(output)"
   ]
  },
  {
   "cell_type": "code",
   "execution_count": 26,
   "metadata": {},
   "outputs": [],
   "source": [
    "# Save output to text file\n",
    "\n",
    "output_filename = 'output.txt'\n",
    "\n",
    "with open(output_filename, 'w') as f:\n",
    "    f.write(str(output))"
   ]
  },
  {
   "cell_type": "code",
   "execution_count": 27,
   "metadata": {},
   "outputs": [],
   "source": [
    "# Save output to json file\n",
    "import json\n",
    "\n",
    "output_filename = 'output.json'\n",
    "\n",
    "with open(output_filename, 'w') as f:\n",
    "    f.write(json.dumps(output))"
   ]
  }
 ],
 "metadata": {
  "kernelspec": {
   "display_name": "env",
   "language": "python",
   "name": "python3"
  },
  "language_info": {
   "codemirror_mode": {
    "name": "ipython",
    "version": 3
   },
   "file_extension": ".py",
   "mimetype": "text/x-python",
   "name": "python",
   "nbconvert_exporter": "python",
   "pygments_lexer": "ipython3",
   "version": "3.12.0"
  }
 },
 "nbformat": 4,
 "nbformat_minor": 2
}
