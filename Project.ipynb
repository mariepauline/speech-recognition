{
 "cells": [
  {
   "cell_type": "markdown",
   "metadata": {},
   "source": [
    "# Speech recognition\n",
    "\n",
    "How exciting to start our AI speech recognition journey! 🚀\n",
    "\n",
    "The neccessary steps are as follows:\n",
    "1) Install and import all necessary packages\n",
    "2) Specify and load the wanted model from HuggingFace via their package \"transformers\"\n",
    "3) Specify which audio files to run through the model\n",
    "4) Voila, the magic is done!\n",
    "5) (optional) save the output wherever you want"
   ]
  },
  {
   "cell_type": "markdown",
   "metadata": {},
   "source": [
    "## 1) Install and import all necessary packages"
   ]
  },
  {
   "cell_type": "code",
   "execution_count": null,
   "metadata": {},
   "outputs": [],
   "source": [
    "# We start by checking that our virtual environment is up and running. \n",
    "# The correct path should end with /env/bin/python\n",
    "!which python"
   ]
  },
  {
   "cell_type": "code",
   "execution_count": null,
   "metadata": {},
   "outputs": [],
   "source": [
    "# Then we need to install all required packages\n",
    "# Most likely this is already done and you can skip this part\n",
    "!pip install -r requirements.txt"
   ]
  },
  {
   "cell_type": "code",
   "execution_count": null,
   "metadata": {},
   "outputs": [],
   "source": [
    "# Importing necessary packages\n",
    "\n",
    "from transformers import pipeline"
   ]
  },
  {
   "cell_type": "code",
   "execution_count": null,
   "metadata": {},
   "outputs": [],
   "source": [
    "# Set model\n",
    "# This can be any suitable model from Hugging Face\n",
    "model_name = \"NbAiLab/nb-whisper-small-beta\""
   ]
  },
  {
   "cell_type": "code",
   "execution_count": null,
   "metadata": {},
   "outputs": [],
   "source": [
    "# Load the model from hugging face\n",
    "speech_recognition = pipeline(\"automatic-speech-recognition\", model_name)\n"
   ]
  },
  {
   "cell_type": "code",
   "execution_count": null,
   "metadata": {},
   "outputs": [],
   "source": [
    "# Choose audio file\n",
    "audio_file = \"example_audio/king.mp3\""
   ]
  },
  {
   "cell_type": "code",
   "execution_count": null,
   "metadata": {},
   "outputs": [],
   "source": [
    "# Transcribe\n",
    "\n",
    "output = speech_recognition(audio_file, return_timestamps=True, generate_kwargs={'task': 'transcribe', 'language': 'no'})"
   ]
  },
  {
   "cell_type": "code",
   "execution_count": null,
   "metadata": {},
   "outputs": [],
   "source": [
    "# Check output\n",
    "print(output)"
   ]
  },
  {
   "cell_type": "code",
   "execution_count": null,
   "metadata": {},
   "outputs": [],
   "source": [
    "# Save output to text file\n",
    "\n",
    "output_filename = 'output.txt'\n",
    "\n",
    "with open(output_filename, 'w') as f:\n",
    "    f.write(str(output))"
   ]
  },
  {
   "cell_type": "code",
   "execution_count": null,
   "metadata": {},
   "outputs": [],
   "source": [
    "# Save output to json file\n",
    "import json\n",
    "\n",
    "output_filename = 'output.json'\n",
    "\n",
    "with open(output_filename, 'w') as f:\n",
    "    f.write(json.dumps(output))"
   ]
  }
 ],
 "metadata": {
  "kernelspec": {
   "display_name": "env",
   "language": "python",
   "name": "python3"
  },
  "language_info": {
   "codemirror_mode": {
    "name": "ipython",
    "version": 3
   },
   "file_extension": ".py",
   "mimetype": "text/x-python",
   "name": "python",
   "nbconvert_exporter": "python",
   "pygments_lexer": "ipython3",
   "version": "3.12.0"
  }
 },
 "nbformat": 4,
 "nbformat_minor": 2
}
